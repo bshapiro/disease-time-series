{
 "cells": [
  {
   "cell_type": "code",
   "execution_count": 29,
   "metadata": {
    "collapsed": false
   },
   "outputs": [],
   "source": [
    "import pickle\n",
    "import matplotlib.pyplot as plt\n",
    "import pandas as pd\n",
    "import matplotlib\n",
    "import numpy as np\n",
    "import seaborn as sns"
   ]
  },
  {
   "cell_type": "code",
   "execution_count": 30,
   "metadata": {
    "collapsed": true
   },
   "outputs": [],
   "source": [
    "directory = '/Users/benj/Documents/Research/Projects/disease-time-series/gpc/two/myeloma_paper/avg/raw/clusters5/strength0.3/'"
   ]
  },
  {
   "cell_type": "code",
   "execution_count": 31,
   "metadata": {
    "collapsed": false
   },
   "outputs": [],
   "source": [
    "genes = [item[0] for item in pd.read_csv(open('../data/myeloma/genes.csv'), header=None).values.tolist()]\n",
    "upreg = set([item[0] for item in pd.read_csv(open('../data/myeloma/upreg.csv'), header=None).values.tolist()])\n",
    "downreg = set([item[0] for item in pd.read_csv(open('../data/myeloma/downreg.csv'), header=None).values.tolist()])\n",
    "stable = set([item[0] for item in pd.read_csv(open('../data/myeloma/stable.csv'), header=None).values.tolist()])\n",
    "tedown = set([item[0] for item in pd.read_csv(open('../data/myeloma/tedown.csv'), header=None).values.tolist()])\n",
    "teup = set([item[0] for item in pd.read_csv(open('../data/myeloma/teup.csv'), header=None).values.tolist()])\n",
    "paper_clusters = [upreg, downreg, stable, tedown, teup]\n",
    "memberships = pickle.load(open(directory + 'memberships.dump'))"
   ]
  },
  {
   "cell_type": "code",
   "execution_count": 32,
   "metadata": {
    "collapsed": true
   },
   "outputs": [],
   "source": [
    "membership_f = open(directory + 'memberships.txt', 'w')\n",
    "membership_string = ','.join([str(memberships[key]) for key in sorted(memberships.keys())])\n",
    "membership_f.write(membership_string)\n",
    "membership_f.close()"
   ]
  },
  {
   "cell_type": "code",
   "execution_count": 33,
   "metadata": {
    "collapsed": false
   },
   "outputs": [],
   "source": [
    "clusters = {}\n",
    "if len(memberships) != 2:\n",
    "    for gene_index, cluster_id in memberships.items():\n",
    "        if clusters.get(cluster_id) is None:\n",
    "            clusters[cluster_id] = []\n",
    "        clusters[cluster_id].append(genes[gene_index])\n",
    "else:\n",
    "    for dataset_name, dataset in memberships.items():\n",
    "        for gene_index, cluster_id in dataset.items():\n",
    "            if clusters.get(cluster_id) is None:\n",
    "                clusters[cluster_id] = []\n",
    "            clusters[cluster_id].append(genes[gene_index])"
   ]
  },
  {
   "cell_type": "code",
   "execution_count": 34,
   "metadata": {
    "collapsed": false
   },
   "outputs": [
    {
     "name": "stdout",
     "output_type": "stream",
     "text": [
      "polya3\n",
      "polya2\n",
      "polya1\n",
      "polya0\n",
      "ribosome4\n",
      "ribosome3\n",
      "ribosome2\n",
      "ribosome1\n",
      "ribosome0\n",
      "[[0.016637478108581436, 0.02203856749311295, 0.11842105263157894, 0.24766355140186916, 0.10434782608695652], [0.0647985989492119, 0.0, 0.173444976076555, 0.02336448598130841, 0.02111801242236025], [0.19964973730297722, 0.9772727272727273, 0.2607655502392344, 0.6542056074766355, 0.822360248447205], [0.7189141856392294, 0.0006887052341597796, 0.4473684210526316, 0.07476635514018691, 0.05217391304347826], [0.0989492119089317, 0.0440771349862259, 0.2117224880382775, 0.024922118380062305, 0.30434782608695654], [0.0035026269702276708, 0.5371900826446281, 0.1590909090909091, 0.543613707165109, 0.24596273291925466], [0.03327495621716287, 0.011707988980716254, 0.22488038277511962, 0.06386292834890965, 0.12049689440993788], [0.0, 0.40426997245179064, 0.029904306220095694, 0.3598130841121495, 0.024844720496894408], [0.8642732049036778, 0.003443526170798898, 0.37440191387559807, 0.00778816199376947, 0.30559006211180123]]\n"
     ]
    }
   ],
   "source": [
    "heat_map = []\n",
    "for cluster_id, cluster in clusters.items():\n",
    "    print cluster_id\n",
    "    overlaps = []\n",
    "    for paper_cluster in paper_clusters:\n",
    "        overlaps.append(len(list(paper_cluster & set(cluster))) / float(len(paper_cluster)))\n",
    "    heat_map.append(overlaps)\n",
    "print heat_map\n",
    "    "
   ]
  },
  {
   "cell_type": "code",
   "execution_count": 35,
   "metadata": {
    "collapsed": false
   },
   "outputs": [],
   "source": [
    "fig, ax = plt.subplots()\n",
    "data = np.asarray(heat_map)\n",
    "ax = sns.heatmap(data, cmap=plt.cm.Blues, linewidths=.1)\n",
    "# set the x-axis labels on the top\n",
    "ax.xaxis.tick_top()\n",
    "# rotate the x-axis labels\n",
    "plt.xticks(rotation=45)\n",
    "ax.invert_yaxis()\n",
    "# get figure (usually obtained via \"fig,ax=plt.subplots()\" with matplotlib)\n",
    "fig = ax.get_figure()\n",
    "# specify dimensions and save\n",
    "fig.set_size_inches(15, 20)\n",
    "ax.set_xticklabels(['Upreg', 'Downreg', 'Stable', 'TE-up', 'TE-down'], minor=False)\n",
    "plt.show()"
   ]
  },
  {
   "cell_type": "code",
   "execution_count": null,
   "metadata": {
    "collapsed": true
   },
   "outputs": [],
   "source": []
  }
 ],
 "metadata": {
  "kernelspec": {
   "display_name": "Python 2",
   "language": "python",
   "name": "python2"
  },
  "language_info": {
   "codemirror_mode": {
    "name": "ipython",
    "version": 2
   },
   "file_extension": ".py",
   "mimetype": "text/x-python",
   "name": "python",
   "nbconvert_exporter": "python",
   "pygments_lexer": "ipython2",
   "version": "2.7.11"
  }
 },
 "nbformat": 4,
 "nbformat_minor": 0
}
