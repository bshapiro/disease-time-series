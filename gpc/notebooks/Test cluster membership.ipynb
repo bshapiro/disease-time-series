{
 "cells": [
  {
   "cell_type": "code",
   "execution_count": 1,
   "metadata": {
    "collapsed": true
   },
   "outputs": [],
   "source": [
    "import pickle\n",
    "import pandas as pd"
   ]
  },
  {
   "cell_type": "code",
   "execution_count": 2,
   "metadata": {
    "collapsed": false
   },
   "outputs": [],
   "source": [
    "genes_list = [item[0] for item in pd.read_csv(open('../data/myeloma/genes.csv'), header=None).values.tolist()]\n",
    "genes = set(genes_list)\n",
    "upreg = set([item[0] for item in pd.read_csv(open('../data/myeloma/upreg.csv'), header=None).values.tolist()])\n",
    "downreg = set([item[0] for item in pd.read_csv(open('../data/myeloma/downreg.csv'), header=None).values.tolist()])\n",
    "stable = set([item[0] for item in pd.read_csv(open('../data/myeloma/stable.csv'), header=None).values.tolist()])\n",
    "tedown = set([item[0] for item in pd.read_csv(open('../data/myeloma/tedown.csv'), header=None).values.tolist()])\n",
    "teup = set([item[0] for item in pd.read_csv(open('../data/myeloma/teup.csv'), header=None).values.tolist()])"
   ]
  },
  {
   "cell_type": "code",
   "execution_count": 3,
   "metadata": {
    "collapsed": false
   },
   "outputs": [
    {
     "data": {
      "text/plain": [
       "5680"
      ]
     },
     "execution_count": 3,
     "metadata": {},
     "output_type": "execute_result"
    }
   ],
   "source": [
    "memberships = pickle.load(open('clusters5/memberships.dump'))\n",
    "len(memberships.keys())\n",
    "len(genes_list)"
   ]
  },
  {
   "cell_type": "code",
   "execution_count": 4,
   "metadata": {
    "collapsed": false
   },
   "outputs": [],
   "source": [
    "cluster0 = set([genes_list[item] for item in memberships.keys() if memberships[item] == 0])\n",
    "cluster1 = set([genes_list[item] for item in memberships.keys() if memberships[item] == 1])\n",
    "cluster2 = set([genes_list[item] for item in memberships.keys() if memberships[item] == 2])\n",
    "cluster3 = set([genes_list[item] for item in memberships.keys() if memberships[item] == 3])\n",
    "cluster4 = set([genes_list[item] for item in memberships.keys() if memberships[item] == 4])"
   ]
  },
  {
   "cell_type": "code",
   "execution_count": 5,
   "metadata": {
    "collapsed": false
   },
   "outputs": [
    {
     "name": "stdout",
     "output_type": "stream",
     "text": [
      "1199\n",
      "994\n",
      "1828\n",
      "22\n",
      "1637\n"
     ]
    }
   ],
   "source": [
    "print len(cluster0) # expect upreg\n",
    "print len(cluster1) # expect downreg\n",
    "print len(cluster2) # expect slowdown\n",
    "print len(cluster3) # expect nothing\n",
    "print len(cluster4) # expect slowup"
   ]
  },
  {
   "cell_type": "code",
   "execution_count": 6,
   "metadata": {
    "collapsed": false
   },
   "outputs": [
    {
     "name": "stdout",
     "output_type": "stream",
     "text": [
      "736 0 43 36 349\n",
      "2 748 102 62 9\n",
      "294 369 435 149 162\n",
      "10 0 0 1 11\n",
      "100 336 226 394 305\n"
     ]
    }
   ],
   "source": [
    "for cluster in [cluster0, cluster1, cluster2, cluster3, cluster4]:\n",
    "    print len(cluster.intersection(upreg)), len(cluster.intersection(downreg)), len(cluster.intersection(teup)), len(cluster.intersection(tedown)), len(cluster.intersection(stable))"
   ]
  },
  {
   "cell_type": "code",
   "execution_count": null,
   "metadata": {
    "collapsed": true
   },
   "outputs": [],
   "source": []
  }
 ],
 "metadata": {
  "kernelspec": {
   "display_name": "Python 2",
   "language": "python",
   "name": "python2"
  },
  "language_info": {
   "codemirror_mode": {
    "name": "ipython",
    "version": 2
   },
   "file_extension": ".py",
   "mimetype": "text/x-python",
   "name": "python",
   "nbconvert_exporter": "python",
   "pygments_lexer": "ipython2",
   "version": "2.7.11"
  }
 },
 "nbformat": 4,
 "nbformat_minor": 0
}
