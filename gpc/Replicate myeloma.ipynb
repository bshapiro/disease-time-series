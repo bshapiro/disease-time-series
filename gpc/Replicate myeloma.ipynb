{
 "cells": [
  {
   "cell_type": "code",
   "execution_count": 1,
   "metadata": {
    "collapsed": false
   },
   "outputs": [],
   "source": [
    "import numpy as np\n",
    "import pandas as pd\n",
    "from scipy.cluster.hierarchy import linkage, dendrogram\n",
    "import sys\n",
    "sys.setrecursionlimit(10000)\n",
    "import matplotlib.pyplot as plt\n",
    "import matplotlib as mpl"
   ]
  },
  {
   "cell_type": "code",
   "execution_count": 2,
   "metadata": {
    "collapsed": false
   },
   "outputs": [
    {
     "name": "stdout",
     "output_type": "stream",
     "text": [
      "5687\n"
     ]
    }
   ],
   "source": [
    "genes = [item[0] for item in pd.read_csv(open('../data/myeloma/genes.csv'), header=None).values.tolist()]\n",
    "upreg = [item[0] for item in pd.read_csv(open('../data/myeloma/upreg.csv'), header=None).values.tolist()]\n",
    "downreg = [item[0] for item in pd.read_csv(open('../data/myeloma/downreg.csv'), header=None).values.tolist()]\n",
    "stable = [item[0] for item in pd.read_csv(open('../data/myeloma/stable.csv'), header=None).values.tolist()]\n",
    "tedown = [item[0] for item in pd.read_csv(open('../data/myeloma/tedown.csv'), header=None).values.tolist()]\n",
    "teup = [item[0] for item in pd.read_csv(open('../data/myeloma/teup.csv'), header=None).values.tolist()]\n",
    "\n",
    "indices = []\n",
    "for gene in tedown:\n",
    "    indices.append(genes.index(gene))\n",
    "for gene in downreg:\n",
    "    indices.append(genes.index(gene))\n",
    "for gene in teup:\n",
    "    indices.append(genes.index(gene))\n",
    "for gene in stable:\n",
    "    indices.append(genes.index(gene))\n",
    "for gene in upreg:\n",
    "    indices.append(genes.index(gene))\n",
    "\n",
    "print len(downreg) + len(upreg) + len(stable) + len(tedown) + len(teup)"
   ]
  },
  {
   "cell_type": "code",
   "execution_count": null,
   "metadata": {
    "collapsed": false
   },
   "outputs": [],
   "source": [
    "print len(downreg)\n",
    "print len(upreg)\n",
    "test = downreg\n",
    "test.extend(upreg)\n",
    "print len(set(test))"
   ]
  },
  {
   "cell_type": "code",
   "execution_count": 3,
   "metadata": {
    "collapsed": false
   },
   "outputs": [],
   "source": [
    "polya = np.log2(pd.read_csv(open('../data/myeloma/polya.csv'), sep=',', header=None).as_matrix()).T\n",
    "ribosome = np.log2(pd.read_csv(open('../data/myeloma/ribosome.csv'), sep=',', header=None).as_matrix()).T\n",
    "te = pd.read_csv(open('../data/myeloma/te.csv'), sep=',', header=0)\n",
    "new_te = []\n",
    "for gene in genes:\n",
    "    new_te.append(te[te['GeneID'] == gene].values.tolist()[0][1:])\n",
    "te = np.log2(np.asarray(new_te).T)\n",
    "\n",
    "new_polya = (polya - np.reshape(polya[0,:], (1, 5680)))[1:,].T\n",
    "new_ribosome = (ribosome - np.reshape(ribosome[0,:], (1, 5680)))[1:,].T\n",
    "new_te = (te - np.reshape(te[0,:], (1, 5680)))[1:,].T\n",
    "combined = np.concatenate((new_polya, new_ribosome, new_te), 1)\n",
    "# combined = np.concatenate((new_polya, new_ribosome), 1)\n",
    "\n",
    "combined_clusters = combined[indices,:]"
   ]
  },
  {
   "cell_type": "code",
   "execution_count": null,
   "metadata": {
    "collapsed": false,
    "hide_input": true
   },
   "outputs": [],
   "source": []
  },
  {
   "cell_type": "code",
   "execution_count": null,
   "metadata": {
    "collapsed": false
   },
   "outputs": [],
   "source": [
    "plt.clf()\n",
    "C = np.loadtxt('../data/myeloma/color_map.txt')\n",
    "heatmap = plt.pcolor(combined, vmin=-3, vmax=3, cmap=mpl.colors.ListedColormap(C/255.0)) # cmap=plt.cm.YlGnBu\n",
    "plt.colorbar()\n",
    "plt.show()"
   ]
  },
  {
   "cell_type": "code",
   "execution_count": 13,
   "metadata": {
    "collapsed": false
   },
   "outputs": [
    {
     "data": {
      "text/plain": [
       "(5679, 4)"
      ]
     },
     "execution_count": 13,
     "metadata": {},
     "output_type": "execute_result"
    }
   ],
   "source": [
    "# combined = np.concatenate((new_polya, new_ribosome), 1)\n",
    "clustering = linkage(combined, method='average', metric='correlation')\n",
    "clustering.shape"
   ]
  },
  {
   "cell_type": "code",
   "execution_count": 14,
   "metadata": {
    "collapsed": false
   },
   "outputs": [],
   "source": [
    "result = dendrogram(clustering,labels=genes, no_plot=True)\n",
    "new_order = result['ivl']\n",
    "new_order.reverse()"
   ]
  },
  {
   "cell_type": "code",
   "execution_count": null,
   "metadata": {
    "collapsed": false
   },
   "outputs": [],
   "source": [
    "indices = []\n",
    "for gene in new_order:\n",
    "    indices.append(genes.index(gene))\n",
    "combined = np.concatenate((new_polya, new_ribosome, new_te), 1)\n",
    "combined_ordered = combined[indices,:]\n",
    "plt.clf()\n",
    "C = np.loadtxt('../data/myeloma/color_map.txt')\n",
    "heatmap = plt.pcolor(combined_ordered, vmin=-3, vmax=3, cmap=mpl.colors.ListedColormap(C/255.0)) # cmap=plt.cm.YlGnBu\n",
    "plt.colorbar()\n",
    "plt.show()"
   ]
  },
  {
   "cell_type": "code",
   "execution_count": null,
   "metadata": {
    "collapsed": false
   },
   "outputs": [],
   "source": []
  },
  {
   "cell_type": "code",
   "execution_count": null,
   "metadata": {
    "collapsed": true
   },
   "outputs": [],
   "source": []
  }
 ],
 "metadata": {
  "kernelspec": {
   "display_name": "Python 2",
   "language": "python",
   "name": "python2"
  },
  "language_info": {
   "codemirror_mode": {
    "name": "ipython",
    "version": 2
   },
   "file_extension": ".py",
   "mimetype": "text/x-python",
   "name": "python",
   "nbconvert_exporter": "python",
   "pygments_lexer": "ipython2",
   "version": "2.7.11"
  }
 },
 "nbformat": 4,
 "nbformat_minor": 0
}
